{
 "cells": [
  {
   "cell_type": "code",
   "execution_count": 1,
   "id": "f64290bb",
   "metadata": {},
   "outputs": [],
   "source": [
    "import pandas as pd\n",
    "import numpy as np\n",
    "import matplotlib.pyplot as plt\n",
    "from os import listdir\n",
    "from os.path import isfile, join"
   ]
  },
  {
   "cell_type": "code",
   "execution_count": 2,
   "id": "79655964",
   "metadata": {},
   "outputs": [],
   "source": [
    "base_dir = \"/path/to/traffic_analytics/<directory>/\""
   ]
  },
  {
   "cell_type": "code",
   "execution_count": 3,
   "id": "6b483466",
   "metadata": {},
   "outputs": [],
   "source": [
    "# Calculate the congestion and weighted congestion score and write to file\n",
    "files = [f for f in listdir(base_dir) if isfile(join(base_dir, f))]\n",
    "\n",
    "for file in files:\n",
    "    fn = file.split('_')\n",
    "    month = fn[0]\n",
    "    port = fn[1]\n",
    "    df = pd.read_csv(base_dir+file)\n",
    "    df['CONGESTION'] = 1-(df['MEAN']/df['FREEFLOW'])\n",
    "    df['CONGESTION-WEIGHTED'] = df['LENGTH'] * (1-(df['MEAN']/df['FREEFLOW']))\n",
    "    df = df.sort_values([\"DATE-TIME\",\"EPOCH-60MIN\"], ascending=True)\n",
    "    df.to_csv(base_dir+month+\"_\"+port+\"_CONGESTION.csv\", sep=',', index=False)"
   ]
  },
  {
   "cell_type": "code",
   "execution_count": null,
   "id": "b7623e24",
   "metadata": {},
   "outputs": [],
   "source": []
  }
 ],
 "metadata": {
  "kernelspec": {
   "display_name": "Python 3 (ipykernel)",
   "language": "python",
   "name": "python3"
  },
  "language_info": {
   "codemirror_mode": {
    "name": "ipython",
    "version": 3
   },
   "file_extension": ".py",
   "mimetype": "text/x-python",
   "name": "python",
   "nbconvert_exporter": "python",
   "pygments_lexer": "ipython3",
   "version": "3.8.3"
  }
 },
 "nbformat": 4,
 "nbformat_minor": 5
}
