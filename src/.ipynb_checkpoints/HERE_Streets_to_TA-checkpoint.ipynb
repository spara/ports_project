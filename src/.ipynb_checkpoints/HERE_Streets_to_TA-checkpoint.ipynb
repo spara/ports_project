{
 "cells": [
  {
   "cell_type": "code",
   "execution_count": 1,
   "id": "2cdf1f30",
   "metadata": {},
   "outputs": [],
   "source": [
    "import geopandas as gpd\n",
    "import pandas as pd\n",
    "import numpy as np\n",
    "import matplotlib.pyplot as plt\n",
    "from shapely.geometry import Point, Polygon"
   ]
  },
  {
   "cell_type": "code",
   "execution_count": 2,
   "id": "d6f990c9",
   "metadata": {},
   "outputs": [],
   "source": [
    "# set these paths and file name\n",
    "base_dir = \"/path/to/ports_project/geo_data/\"\n",
    "port_dir = \"<directory>\"\n",
    "sf = base_dir+port_dir+\"<filename>.shp\"\n",
    "data = gpd.read_file(sf)"
   ]
  },
  {
   "cell_type": "code",
   "execution_count": 3,
   "id": "a9c39193",
   "metadata": {},
   "outputs": [],
   "source": [
    "# add fields to NavStreets to join traffic data\n",
    "data.loc[data['DIR_TRAVEL'] == 'F', 'LINK_DIR' ] = data['LINK_ID'].apply(str) + data['DIR_TRAVEL']\n",
    "data.loc[data['DIR_TRAVEL'] == 'T', 'LINK_DIR' ] = data['LINK_ID'].apply(str) + data['DIR_TRAVEL']\n",
    "data.loc[data['DIR_TRAVEL'] == 'B', 'LINK_DIR' ] = ''\n",
    "\n",
    "# create link id from field\n",
    "data_b = data.copy()\n",
    "data.loc[data['DIR_TRAVEL'] == 'B', 'LINK_DIR' ] = data['LINK_ID'].apply(str) + 'F'\n",
    "\n",
    "# create ling=k id to field\n",
    "data_b = data_b[data_b['DIR_TRAVEL'] == 'B']\n",
    "data_b['LINK_DIR'] = data_b['LINK_ID'].apply(str) + 'T'\n",
    "\n",
    "# merge the dataframes\n",
    "data_ta = data.append(data_b)"
   ]
  },
  {
   "cell_type": "code",
   "execution_count": 9,
   "id": "f5b14a86",
   "metadata": {},
   "outputs": [],
   "source": [
    "# remove unused columns\n",
    "data_ta.drop(columns=['ADDR_TYPE', 'L_REFADDR', 'L_NREFADDR','L_ADDRSCH', 'L_ADDRFORM','R_REFADDR','R_NREFADDR','R_ADDRSCH','R_ADDRFORM','L_NUMZONES','R_NUMZONES','NUM_AD_RNG','AR_AUTO','AR_BUS','AR_TAXIS','AR_CARPOOL','AR_PEDEST','AR_TRUCKS','AR_TRAFF','AR_DELIV'],  inplace=True)\n",
    "data_ta.drop(columns=['AR_EMERVEH','AR_MOTOR','PAVED','PRIVATE','FRONTAGE','BRIDGE','TUNNEL','RAMP','TOLLWAY','POIACCESS','CONTRACC','ROUNDABOUT','INTERINTER','UNDEFTRAFF','FERRY_TYPE','MULTIDIGIT','MAXATTR','SPECTRFIG','INDESCRIB','MANOEUVRE','DIVIDERLEG','INPROCDATA','FULL_GEOM','URBAN'],inplace=True)\n",
    "data_ta.drop(columns=['ROUTE_TYPE','DIRONSIGN','EXPLICATBL','NAMEONRDSN','POSTALNAME','STALENAME','VANITYNAME','JUNCTIONNM','EXITNAME','SCENIC_RT','SCENIC_NM','FOURWHLDR','COVERIND','PLOT_ROAD','REVERSIBLE','EXPR_LANE','CARPOOLRD','PHYS_LANES','VER_TRANS','PUB_ACCESS'],  inplace=True)\n",
    "data_ta.drop(columns=['LOW_MBLTY','PRIORITYRD','SPD_LM_SRC','EXPAND_INC','TRANS_AREA'],inplace=True)\n",
    "data_ta.drop(columns=['FEAT_ID','ST_LANGCD','NUM_STNMES','ST_NM_PREF','ST_TYP_BEF','ST_NM_BASE','ST_NM_SUFF','ST_TYP_AFT','ST_TYP_ATT','REF_IN_ID','NREF_IN_ID','N_SHAPEPNT','SPEED_CAT','FR_SPD_LIM','TO_SPD_LIM','TO_LANES','FROM_LANES','ENH_GEOM','LANE_CAT'], inplace=True)\n",
    "data_ta.drop(columns=['DIVIDER','L_AREA_ID','R_AREA_ID','L_POSTCODE','R_POSTCODE'],  inplace=True)\n"
   ]
  },
  {
   "cell_type": "code",
   "execution_count": 10,
   "id": "42f279ac",
   "metadata": {},
   "outputs": [],
   "source": [
    "# write dataframe to shape file\n",
    "data_ta.to_file(base_dir+port_dir+\"<filename>_TA.shp\")"
   ]
  }
 ],
 "metadata": {
  "kernelspec": {
   "display_name": "Python 3 (ipykernel)",
   "language": "python",
   "name": "python3"
  },
  "language_info": {
   "codemirror_mode": {
    "name": "ipython",
    "version": 3
   },
   "file_extension": ".py",
   "mimetype": "text/x-python",
   "name": "python",
   "nbconvert_exporter": "python",
   "pygments_lexer": "ipython3",
   "version": "3.8.3"
  }
 },
 "nbformat": 4,
 "nbformat_minor": 5
}
