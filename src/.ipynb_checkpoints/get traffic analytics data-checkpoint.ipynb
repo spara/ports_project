{
 "cells": [
  {
   "cell_type": "code",
   "execution_count": null,
   "id": "4d086d77",
   "metadata": {},
   "outputs": [],
   "source": [
    "import json\n",
    "import os, sys\n",
    "import requests"
   ]
  },
  {
   "cell_type": "code",
   "execution_count": null,
   "id": "97a9118d",
   "metadata": {},
   "outputs": [],
   "source": [
    "# the Traffic Analytics API handles one request at a time. \n",
    "# Do not submit a request until the previous one is completed\n",
    "# the requests are printed for copy and paste convenience\n",
    "\n",
    "# DO NOT UNCOMMENT UNTIL API CAN HANDLE ASYNCH REQUESTS\n",
    "base_url = \"https://trafficanalytics.api.here.com/dailyAnalytics/users/<user id>/requests/\"\n",
    "base_dir = base_dir = \"/path/to/port_project/traffic_analytics_requests/\"\n",
    "file = open(base_dir+\"<filename.txt>\")\n",
    "data = file.readlines()\n",
    "\n",
    "\n",
    "access_token = \"\"\n",
    "header_data = {'Authorization': 'Bearer ' + access_token}\n",
    "\n",
    "\n",
    "def download_file(url, prefix):\n",
    "    file_url = url.split('?')[0]\n",
    "    local_filename = base_dir+prefix+file_url.split('/')[-1]\n",
    "    # NOTE the stream=True parameter below\n",
    "    with requests.get(url, stream=True) as r:\n",
    "        r.raise_for_status()\n",
    "        with open(local_filename, 'wb') as f:\n",
    "            for chunk in r.iter_content(chunk_size=8192): \n",
    "                # If you have chunk encoded response uncomment if\n",
    "                # and set chunk_size parameter to None.\n",
    "                #if chunk: \n",
    "                f.write(chunk)\n",
    "    return local_filename\n",
    "\n",
    "\n",
    "def get_status(request_id):\n",
    "    status = ''\n",
    "    response = requests.get(base_url+request_id, headers=header_data)\n",
    "    doc = json.loads(response.content)\n",
    "    if doc['status'] == \"Completed Successfully\":\n",
    "        status = doc['outputUrl']\n",
    "    else:\n",
    "        status = \"In progress\"\n",
    "    \n",
    "    return status\n",
    "    \n",
    "    \n",
    "for d in data:\n",
    "    query = json.loads(d)\n",
    "    file_prefix = query[0]+\"_\"+query[1]+\"-\"\n",
    "    status = get_status(str(query[2]))\n",
    "    if status != \"In progress\":\n",
    "        download = download_file(status, file_prefix )\n",
    "        print(\"Downloaded: \"+download)\n",
    "    "
   ]
  },
  {
   "cell_type": "code",
   "execution_count": null,
   "id": "fc7096ca",
   "metadata": {},
   "outputs": [],
   "source": []
  }
 ],
 "metadata": {
  "kernelspec": {
   "display_name": "Python 3 (ipykernel)",
   "language": "python",
   "name": "python3"
  },
  "language_info": {
   "codemirror_mode": {
    "name": "ipython",
    "version": 3
   },
   "file_extension": ".py",
   "mimetype": "text/x-python",
   "name": "python",
   "nbconvert_exporter": "python",
   "pygments_lexer": "ipython3",
   "version": "3.8.3"
  }
 },
 "nbformat": 4,
 "nbformat_minor": 5
}
