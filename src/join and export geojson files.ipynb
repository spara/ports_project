{
 "cells": [
  {
   "cell_type": "code",
   "execution_count": 1,
   "id": "9cf2666c",
   "metadata": {},
   "outputs": [],
   "source": [
    "import os, sys\n",
    "import geopandas as gpd\n",
    "import pandas as pd\n",
    "import numpy as np\n",
    "import matplotlib.pyplot as plt\n",
    "from shapely.geometry import Point, Polygon"
   ]
  },
  {
   "cell_type": "code",
   "execution_count": 2,
   "id": "11e02319",
   "metadata": {},
   "outputs": [],
   "source": [
    "# set paths and directory name\n",
    "geojson_dir = \"/path/to/ports_project/geojson_out/\"\n",
    "geo_base_dir = \"/path/to/ports_project/geo_data/\"\n",
    "port = 'directory_name'\n",
    "road_file = port+\"_TA.shp\"\n",
    "gpath = [geo_base_dir,port,\"/\",road_file]\n",
    "geo_data_path = ''.join(gpath)\n",
    "geo_data = gpd.read_file(geo_data_path)"
   ]
  },
  {
   "cell_type": "code",
   "execution_count": 3,
   "id": "10cb2968",
   "metadata": {
    "scrolled": true
   },
   "outputs": [],
   "source": [
    "# set paths\n",
    "congestion_base_dir = \"/path/to/ports_project/traffic_analytics/\"\n",
    "months = [\"jan\",\"feb\",\"mar\",\"apr\",\"may\",\"jun\",\"jul\",\"aug\",\"sep\",\"oct\",\"nov\"]\n",
    "congestion_file_suffix = \"_CONGESTION.csv\""
   ]
  },
  {
   "cell_type": "code",
   "execution_count": 4,
   "id": "8f915482",
   "metadata": {},
   "outputs": [],
   "source": [
    "# join the congestion file to the NavStreets shapefie with to and from LINK-IDs\n",
    "for month in months:\n",
    "    cpath = [congestion_base_dir,port,\"/\",month,\"_\",port,congestion_file_suffix]\n",
    "    congestion_file_path = \"\".join(cpath)\n",
    "    congestion_data = pd.read_csv(congestion_file_path)\n",
    "    \n",
    "    # set negative values to 0\n",
    "    congestion_data.loc[congestion_data['CONGESTION-WEIGHTED'] < 0, 'CONGESTION-WEIGHTED'] = 0\n",
    "    \n",
    "    # group by road segment or linkId\n",
    "    congestion_sum = congestion_data.groupby('LINK-DIR')['CONGESTION-WEIGHTED'].mean().reset_index()\n",
    "    \n",
    "    # create a common field name for merging\n",
    "    geo_data[\"LINK-DIR\"] = geo_data[\"LINK_DIR\"]\n",
    "\n",
    "    # merge congestion scores to streets\n",
    "    congestion_geo = geo_data.merge(congestion_sum, on='LINK-DIR')\n",
    "    \n",
    "    # remove duplicates\n",
    "    congestion_geo = congestion_geo.drop_duplicates()\n",
    "    \n",
    "    # write geojson summary file\n",
    "    gjpath = [geojson_dir,port,\"/\"]\n",
    "    geojson_path = \"\".join(gjpath)\n",
    "    if not os.path.exists(geojson_path):\n",
    "        os.makedirs(geojson_path)\n",
    "    fpath = [geojson_path,month,\"_\",port,\"_congestion_TA.geojson\"]\n",
    "    file = \"\".join(fpath)\n",
    "    congestion_geo.to_file(file, driver=\"GeoJSON\")"
   ]
  }
 ],
 "metadata": {
  "kernelspec": {
   "display_name": "Python 3 (ipykernel)",
   "language": "python",
   "name": "python3"
  },
  "language_info": {
   "codemirror_mode": {
    "name": "ipython",
    "version": 3
   },
   "file_extension": ".py",
   "mimetype": "text/x-python",
   "name": "python",
   "nbconvert_exporter": "python",
   "pygments_lexer": "ipython3",
   "version": "3.8.3"
  }
 },
 "nbformat": 4,
 "nbformat_minor": 5
}
